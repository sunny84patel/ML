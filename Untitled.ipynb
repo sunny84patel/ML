{
 "cells": [
  {
   "cell_type": "code",
   "execution_count": 2,
   "id": "a98129db",
   "metadata": {},
   "outputs": [
    {
     "name": "stdout",
     "output_type": "stream",
     "text": [
      "{\n",
      "  \"Invoice No.\": \"\",\n",
      "  \"GSTIN/UIN\": \": 27AACCE4200H1Z4\",\n",
      "  \"Consignee\": \": ;\",\n",
      "  \"Buyer\": \"(if other than consignee) |\",\n",
      "  \"Dated\": \"\",\n",
      "  \"Amount Chargeable\": \"(in words) E&OE\",\n",
      "  \"Tax Amount\": \"(in words) : Four Thousand Eight Hundred Ninety Six INR and Thirty Six paise Only\"\n",
      "}\n"
     ]
    }
   ],
   "source": [
    "import cv2\n",
    "import pytesseract\n",
    "import json\n",
    "\n",
    "def extract_invoice_data(invoice_image):\n",
    "    image = cv2.imread(invoice_image)\n",
    "    text = pytesseract.image_to_string(image, lang='eng')\n",
    "    lines = text.split('\\n')\n",
    "    invoice_data = {}\n",
    "    for line in lines:\n",
    "        for key in ['Invoice No.', 'Dated', 'GSTIN/UIN', 'Consignee',\n",
    "                'Vendor Address', 'Delivery Address', 'Buyer', 'Buyer Address',\n",
    "                'Amount Chargeable', 'Tax Amount',\n",
    "                'PO Number']:\n",
    "            if key in line:\n",
    "                value = line.split(key)[1].strip()\n",
    "                invoice_data[key] = value\n",
    "\n",
    "    if 'Item Details' in lines:\n",
    "        item_details_line = lines[lines.index('Item Details') + 1]\n",
    "        item_details = []\n",
    "        \n",
    "        for item in item_details_line.split(';'):\n",
    "            item_data = {}\n",
    "            for key in ['Item Code', 'Quantity', 'Price', 'Discount', 'Tax Amount']:\n",
    "                if key in item:\n",
    "                    value = item.split(key)[1].strip()\n",
    "                    item_data[key] = value\n",
    "            item_details.append(item_data)\n",
    "        invoice_data['Item Details'] = item_details\n",
    "\n",
    "\n",
    "    return invoice_data\n",
    "\n",
    "def main():\n",
    "\n",
    "    sample_files = [\"sample.jpg\"]\n",
    "    for sample_file in sample_files:\n",
    "        invoice_data = extract_invoice_data(sample_file)\n",
    "        print(json.dumps(invoice_data, indent=2))\n",
    "\n",
    "if __name__ == '__main__':\n",
    "    main()"
   ]
  },
  {
   "cell_type": "code",
   "execution_count": null,
   "id": "0547e856",
   "metadata": {},
   "outputs": [],
   "source": []
  }
 ],
 "metadata": {
  "kernelspec": {
   "display_name": "Python 3 (ipykernel)",
   "language": "python",
   "name": "python3"
  },
  "language_info": {
   "codemirror_mode": {
    "name": "ipython",
    "version": 3
   },
   "file_extension": ".py",
   "mimetype": "text/x-python",
   "name": "python",
   "nbconvert_exporter": "python",
   "pygments_lexer": "ipython3",
   "version": "3.10.9"
  }
 },
 "nbformat": 4,
 "nbformat_minor": 5
}
